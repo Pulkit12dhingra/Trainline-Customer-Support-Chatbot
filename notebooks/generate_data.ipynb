{
 "cells": [
  {
   "cell_type": "code",
   "execution_count": null,
   "metadata": {},
   "outputs": [],
   "source": [
    "import time\n",
    "import os\n",
    "from selenium import webdriver\n",
    "from selenium.webdriver.chrome.service import Service\n",
    "from selenium.webdriver.chrome.options import Options\n",
    "from selenium.webdriver.common.by import By\n",
    "from selenium.common.exceptions import NoSuchElementException\n",
    "from tqdm import tqdm  # Import tqdm for progress bar\n"
   ]
  },
  {
   "cell_type": "code",
   "execution_count": null,
   "metadata": {},
   "outputs": [],
   "source": [
    "# Setup WebDriver options\n",
    "options = Options()\n",
    "# Uncomment for headless mode\n",
    "# options.add_argument(\"--headless\")\n"
   ]
  },
  {
   "cell_type": "code",
   "execution_count": null,
   "metadata": {},
   "outputs": [],
   "source": [
    "# Initialize WebDriver\n",
    "service = Service()\n",
    "driver = webdriver.Chrome(service=service, options=options)\n"
   ]
  },
  {
   "cell_type": "code",
   "execution_count": null,
   "metadata": {},
   "outputs": [],
   "source": [
    "# File paths\n",
    "input_file = \"data/urls.txt\"\n",
    "output_file = \"data/content.txt\"\n",
    "\n",
    "# Ensure data directory exists\n",
    "os.makedirs(\"data\", exist_ok=True)\n"
   ]
  },
  {
   "cell_type": "code",
   "execution_count": null,
   "metadata": {},
   "outputs": [],
   "source": [
    "\n",
    "# Read URLs from list.txt\n",
    "try:\n",
    "    with open(input_file, \"r\", encoding=\"utf-8\") as f:\n",
    "        urls = [line.strip() for line in f if line.strip()]\n",
    "except FileNotFoundError:\n",
    "    print(f\"⚠️ File {input_file} not found! Please create it and add URLs.\")\n",
    "    driver.quit()\n",
    "    exit()\n"
   ]
  },
  {
   "cell_type": "code",
   "execution_count": null,
   "metadata": {},
   "outputs": [],
   "source": [
    "\n",
    "# Open output file in write mode to clear previous content\n",
    "with open(output_file, \"w\", encoding=\"utf-8\") as file:\n",
    "    file.write(\"Extracted Content from Trainline Support Pages\\n\")\n",
    "    file.write(\"=\" * 80 + \"\\n\\n\")\n"
   ]
  },
  {
   "cell_type": "code",
   "execution_count": null,
   "metadata": {},
   "outputs": [
    {
     "name": "stderr",
     "output_type": "stream",
     "text": [
      "Processing URLs: 100%|██████████| 100/100 [19:41<00:00, 11.81s/page]\n"
     ]
    }
   ],
   "source": [
    "\n",
    "\n",
    "try:\n",
    "    for url in tqdm(urls, desc=\"Processing URLs\", unit=\"page\"):  # Progress bar with tqdm\n",
    "        # Open the webpage\n",
    "        driver.get(url)\n",
    "\n",
    "        # Allow the page to load\n",
    "        time.sleep(3)\n",
    "\n",
    "        # Step 1: Click \"Accept All Cookies\" before anything else\n",
    "        try:\n",
    "            cookie_button = driver.find_element(By.ID, \"onetrust-accept-btn-handler\")  # OneTrust \"Accept All\" button\n",
    "            cookie_button.click()\n",
    "            time.sleep(2)  # Wait for cookies to be accepted\n",
    "        except NoSuchElementException:\n",
    "            pass  # Ignore if cookie button is not found\n",
    "\n",
    "        # Step 2: Remove any remaining cookie banners\n",
    "        script_remove_cookie_banner = \"\"\"\n",
    "        let cookieBanner = document.getElementById(\"onetrust-banner-sdk\");\n",
    "        if (cookieBanner) {\n",
    "            cookieBanner.remove();\n",
    "        }\n",
    "        \"\"\"\n",
    "        driver.execute_script(script_remove_cookie_banner)\n",
    "\n",
    "        # Step 3: Open all dropdowns\n",
    "        script_open_dropdowns = \"\"\"\n",
    "        document.querySelectorAll('.accound-content').forEach(el => {\n",
    "            el.style.display = 'block';  // Keep open\n",
    "            el.style.overflow = 'visible';\n",
    "        });\n",
    "\n",
    "        document.querySelectorAll('.account-heading').forEach(el => {\n",
    "            el.setAttribute('aria-expanded', 'true');  // Mark as expanded\n",
    "        });\n",
    "        \"\"\"\n",
    "        driver.execute_script(script_open_dropdowns)\n",
    "\n",
    "        # Wait before extracting content\n",
    "        time.sleep(5)\n",
    "\n",
    "        # Step 4: Extract text from the specific div with class=\"tab-content-layer current\"\n",
    "        try:\n",
    "            content_element = driver.find_element(By.CLASS_NAME, \"tab-content-layer.current\")\n",
    "            content_text = content_element.text\n",
    "        except NoSuchElementException:\n",
    "            content_text = \"⚠️ No content found in 'tab-content-layer current'.\"\n",
    "\n",
    "        # Step 5: Append extracted text to the file\n",
    "        with open(output_file, \"a\", encoding=\"utf-8\") as file:\n",
    "            file.write(f\"URL: {url}\\n\")\n",
    "            file.write(\"Extracted Content:\\n\")\n",
    "            file.write(content_text + \"\\n\")\n",
    "            file.write(\"=\" * 80 + \"\\n\\n\")\n",
    "\n",
    "        # Short wait before processing the next URL\n",
    "        time.sleep(3)\n",
    "\n",
    "finally:\n",
    "    # Close the browser\n",
    "    driver.quit()\n"
   ]
  }
 ],
 "metadata": {
  "kernelspec": {
   "display_name": "base",
   "language": "python",
   "name": "python3"
  },
  "language_info": {
   "codemirror_mode": {
    "name": "ipython",
    "version": 3
   },
   "file_extension": ".py",
   "mimetype": "text/x-python",
   "name": "python",
   "nbconvert_exporter": "python",
   "pygments_lexer": "ipython3",
   "version": "3.12.7"
  }
 },
 "nbformat": 4,
 "nbformat_minor": 2
}
